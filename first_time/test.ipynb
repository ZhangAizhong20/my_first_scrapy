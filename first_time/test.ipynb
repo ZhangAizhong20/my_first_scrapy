{
 "cells": [
  {
   "cell_type": "code",
   "execution_count": 1,
   "metadata": {},
   "outputs": [],
   "source": [
    "import json"
   ]
  },
  {
   "cell_type": "code",
   "execution_count": 4,
   "metadata": {},
   "outputs": [],
   "source": [
    "a = [{},{}]\n",
    "b = json.dumps(a)"
   ]
  },
  {
   "cell_type": "code",
   "execution_count": 5,
   "metadata": {},
   "outputs": [
    {
     "data": {
      "text/plain": [
       "['Mozilla/5.0 (X11; U; Linux i686; en-US) AppleWebKit/532.2 (KHTML, like Gecko) Chrome/4.0.222.8 Safari/532.2',\n",
       " 'Mozilla/5.0 (X11; U; Linux x86_64; en-US) AppleWebKit/540.0 (KHTML, like Gecko) Ubuntu/10.10 Chrome/8.1.0.0 Safari/540.0',\n",
       " 'Mozilla/5.0 (Windows; U; Windows NT 5.1; en-US) AppleWebKit/532.0 (KHTML, like Gecko) Chrome/3.0.195.24 Safari/532.0',\n",
       " 'Mozilla/5.0 ArchLinux (X11; U; Linux x86_64; en-US) AppleWebKit/534.30 (KHTML, like Gecko) Chrome/12.0.742.100',\n",
       " 'Mozilla/5.0 (Windows NT 5.1) AppleWebKit/537.36 (KHTML, like Gecko) Chrome/27.0.1453.93 Safari/537.36',\n",
       " 'Mozilla/5.0 (Windows; U; Windows NT 5.1; en-US) AppleWebKit/530.5 (KHTML, like Gecko) Chrome/2.0.174.0 Safari/530.5',\n",
       " 'Mozilla/5.0 (Windows; U; Windows NT 5.1; en-US) AppleWebKit/532.0 (KHTML, like Gecko) Chrome/4.0.203.0 Safari/532.0',\n",
       " 'Mozilla/5.0 (Windows NT 6.0) AppleWebKit/534.30 (KHTML, like Gecko) Chrome/12.0.742.100 Safari/534.30',\n",
       " 'Mozilla/5.0 (Windows; U; Windows NT 6.1; en-US) AppleWebKit/528.8 (KHTML, like Gecko) Chrome/1.0.156.0 Safari/528.8',\n",
       " 'Mozilla/5.0 (Macintosh; U; Intel Mac OS X 10_6_3; en-US) AppleWebKit/534.3 (KHTML, like Gecko) Chrome/6.0.456.0 Safari/534.3']"
      ]
     },
     "execution_count": 5,
     "metadata": {},
     "output_type": "execute_result"
    }
   ],
   "source": [
    "from fake_useragent import UserAgent\n",
    "list1 = []\n",
    "for i in range(10):\n",
    "    ua = UserAgent()\n",
    "    list1.append(ua.chrome)\n",
    "list1"
   ]
  },
  {
   "cell_type": "code",
   "execution_count": 3,
   "metadata": {},
   "outputs": [
    {
     "name": "stdout",
     "output_type": "stream",
     "text": [
      "<html><head><link rel=\"stylesheet\" href=\"resource://content-accessible/plaintext.css\"></head><body><pre>sucess! client ip: 45.116.152.23 </pre></body></html>\n"
     ]
    },
    {
     "ename": "WebDriverException",
     "evalue": "Message: Failed to decode response from marionette\n",
     "output_type": "error",
     "traceback": [
      "\u001b[1;31m---------------------------------------------------------------------------\u001b[0m",
      "\u001b[1;31mWebDriverException\u001b[0m                        Traceback (most recent call last)",
      "Cell \u001b[1;32mIn[3], line 28\u001b[0m\n\u001b[0;32m     26\u001b[0m \u001b[39m# 延迟3秒后关闭当前窗口，如果是最后一个窗口则退出\u001b[39;00m\n\u001b[0;32m     27\u001b[0m time\u001b[39m.\u001b[39msleep(\u001b[39m3\u001b[39m)\n\u001b[1;32m---> 28\u001b[0m driver\u001b[39m.\u001b[39;49mclose()\n",
      "File \u001b[1;32mc:\\Users\\11498\\miniconda3\\envs\\scy\\lib\\site-packages\\selenium\\webdriver\\remote\\webdriver.py:551\u001b[0m, in \u001b[0;36mWebDriver.close\u001b[1;34m(self)\u001b[0m\n\u001b[0;32m    543\u001b[0m \u001b[39mdef\u001b[39;00m \u001b[39mclose\u001b[39m(\u001b[39mself\u001b[39m) \u001b[39m-\u001b[39m\u001b[39m>\u001b[39m \u001b[39mNone\u001b[39;00m:\n\u001b[0;32m    544\u001b[0m     \u001b[39m\"\"\"Closes the current window.\u001b[39;00m\n\u001b[0;32m    545\u001b[0m \n\u001b[0;32m    546\u001b[0m \u001b[39m    :Usage:\u001b[39;00m\n\u001b[1;32m   (...)\u001b[0m\n\u001b[0;32m    549\u001b[0m \u001b[39m            driver.close()\u001b[39;00m\n\u001b[0;32m    550\u001b[0m \u001b[39m    \"\"\"\u001b[39;00m\n\u001b[1;32m--> 551\u001b[0m     \u001b[39mself\u001b[39;49m\u001b[39m.\u001b[39;49mexecute(Command\u001b[39m.\u001b[39;49mCLOSE)\n",
      "File \u001b[1;32mc:\\Users\\11498\\miniconda3\\envs\\scy\\lib\\site-packages\\selenium\\webdriver\\remote\\webdriver.py:440\u001b[0m, in \u001b[0;36mWebDriver.execute\u001b[1;34m(self, driver_command, params)\u001b[0m\n\u001b[0;32m    438\u001b[0m response \u001b[39m=\u001b[39m \u001b[39mself\u001b[39m\u001b[39m.\u001b[39mcommand_executor\u001b[39m.\u001b[39mexecute(driver_command, params)\n\u001b[0;32m    439\u001b[0m \u001b[39mif\u001b[39;00m response:\n\u001b[1;32m--> 440\u001b[0m     \u001b[39mself\u001b[39;49m\u001b[39m.\u001b[39;49merror_handler\u001b[39m.\u001b[39;49mcheck_response(response)\n\u001b[0;32m    441\u001b[0m     response[\u001b[39m\"\u001b[39m\u001b[39mvalue\u001b[39m\u001b[39m\"\u001b[39m] \u001b[39m=\u001b[39m \u001b[39mself\u001b[39m\u001b[39m.\u001b[39m_unwrap_value(response\u001b[39m.\u001b[39mget(\u001b[39m\"\u001b[39m\u001b[39mvalue\u001b[39m\u001b[39m\"\u001b[39m, \u001b[39mNone\u001b[39;00m))\n\u001b[0;32m    442\u001b[0m     \u001b[39mreturn\u001b[39;00m response\n",
      "File \u001b[1;32mc:\\Users\\11498\\miniconda3\\envs\\scy\\lib\\site-packages\\selenium\\webdriver\\remote\\errorhandler.py:245\u001b[0m, in \u001b[0;36mErrorHandler.check_response\u001b[1;34m(self, response)\u001b[0m\n\u001b[0;32m    243\u001b[0m         alert_text \u001b[39m=\u001b[39m value[\u001b[39m\"\u001b[39m\u001b[39malert\u001b[39m\u001b[39m\"\u001b[39m]\u001b[39m.\u001b[39mget(\u001b[39m\"\u001b[39m\u001b[39mtext\u001b[39m\u001b[39m\"\u001b[39m)\n\u001b[0;32m    244\u001b[0m     \u001b[39mraise\u001b[39;00m exception_class(message, screen, stacktrace, alert_text)  \u001b[39m# type: ignore[call-arg]  # mypy is not smart enough here\u001b[39;00m\n\u001b[1;32m--> 245\u001b[0m \u001b[39mraise\u001b[39;00m exception_class(message, screen, stacktrace)\n",
      "\u001b[1;31mWebDriverException\u001b[0m: Message: Failed to decode response from marionette\n"
     ]
    }
   ],
   "source": [
    "import time\n",
    "from seleniumwire import webdriver # pip install selenium-wire\n",
    "\n",
    "username = 't17938570607068'#t17938570607068\n",
    "password = 'db96rczt'\n",
    "host ='s306.kdltps.com'\n",
    "path = 'D:\\geckodriver-v0.31.0-win64\\geckodriver.exe'\n",
    "\n",
    "options = {\n",
    "        'proxy': {\n",
    "            'http': f'http://{username}:{password}@{host}:15818',\n",
    "            'https': f'http://{username}:{password}@{host}:15818',\n",
    "        },\n",
    "        'profile.managed_default_content_settings.images':False\n",
    "        \n",
    "    }\n",
    "# chrome_options = webdriver.FirefoxOptions()\n",
    "\n",
    "driver = webdriver.Firefox(seleniumwire_options=options,executable_path=path)\n",
    "\n",
    "driver.get('https://dev.kdlapi.com/testproxy')\n",
    "\n",
    "# 获取页面内容\n",
    "print(driver.page_source)\n",
    "\n",
    "# 延迟3秒后关闭当前窗口，如果是最后一个窗口则退出\n",
    "time.sleep(3)\n",
    "driver.close()"
   ]
  },
  {
   "cell_type": "code",
   "execution_count": null,
   "metadata": {},
   "outputs": [],
   "source": [
    "username = 't17938570607068'#t17938570607068\n",
    "password = 'db96rczt'\n",
    "host ='s306.kdltps.com'\n",
    "path = 'D:\\geckodriver-v0.31.0-win64\\geckodriver.exe'\n",
    "\n",
    "options = {\n",
    "    'proxy': {\n",
    "        'http': f'http://{username}:{password}@{host}:15818',\n",
    "        'https': f'http://{username}:{password}@{host}:15818',\n",
    "    }\n",
    "}\n",
    "\n",
    "self.driver = webdriver.Firefox(seleniumwire_options=options)"
   ]
  },
  {
   "cell_type": "code",
   "execution_count": 5,
   "metadata": {},
   "outputs": [
    {
     "name": "stderr",
     "output_type": "stream",
     "text": [
      "C:\\Users\\11498\\AppData\\Local\\Temp\\ipykernel_27172\\1321698514.py:96: DeprecationWarning: use options instead of chrome_options\n",
      "  driver = webdriver.Chrome(chrome_options=chrome_options)\n"
     ]
    },
    {
     "name": "stdout",
     "output_type": "stream",
     "text": [
      "<html><head></head><body><pre style=\"word-wrap: break-word; white-space: pre-wrap;\">sucess! client ip: 183.222.15.180 </pre></body></html>\n"
     ]
    }
   ],
   "source": [
    "from selenium import webdriver\n",
    "import string\n",
    "import zipfile\n",
    "import time\n",
    "\n",
    "\n",
    "def create_proxyauth_extension(tunnelhost, tunnelport, proxy_username, proxy_password, scheme='http', plugin_path=None):\n",
    "    \"\"\"代理认证插件\n",
    "    args:\n",
    "        tunnelhost (str): 你的代理地址或者域名（str类型）\n",
    "        tunnelport (int): 代理端口号（int类型）\n",
    "        proxy_username (str):用户名（字符串）\n",
    "        proxy_password (str): 密码 （字符串）\n",
    "    kwargs:\n",
    "        scheme (str): 代理方式 默认http\n",
    "        plugin_path (str): 扩展的绝对路径\n",
    "    return str -> plugin_path\n",
    "    \"\"\"\n",
    "\n",
    "    if plugin_path is None:\n",
    "        plugin_path = 'vimm_chrome_proxyauth_plugin.zip'\n",
    "\n",
    "    manifest_json = \"\"\"\n",
    "    {\n",
    "        \"version\": \"1.0.0\",\n",
    "        \"manifest_version\": 2,\n",
    "        \"name\": \"Chrome Proxy\",\n",
    "        \"permissions\": [\n",
    "            \"proxy\",\n",
    "            \"tabs\",\n",
    "            \"unlimitedStorage\",\n",
    "            \"storage\",\n",
    "            \"<all_urls>\",\n",
    "            \"webRequest\",\n",
    "            \"webRequestBlocking\"\n",
    "        ],\n",
    "        \"background\": {\n",
    "            \"scripts\": [\"background.js\"]\n",
    "        },\n",
    "        \"minimum_chrome_version\":\"22.0.0\"\n",
    "    }\n",
    "    \"\"\"\n",
    "\n",
    "    background_js = string.Template(\n",
    "        \"\"\"\n",
    "        var config = {\n",
    "                mode: \"fixed_servers\",\n",
    "                rules: {\n",
    "                singleProxy: {\n",
    "                    scheme: \"${scheme}\",\n",
    "                    host: \"${host}\",\n",
    "                    port: parseInt(${port})\n",
    "                },\n",
    "                bypassList: [\"foobar.com\"]\n",
    "                }\n",
    "            };\n",
    "        chrome.proxy.settings.set({value: config, scope: \"regular\"}, function() {});\n",
    "        function callbackFn(details) {\n",
    "            return {\n",
    "                authCredentials: {\n",
    "                    username: \"${username}\",\n",
    "                    password: \"${password}\"\n",
    "                }\n",
    "            };\n",
    "        }\n",
    "        chrome.webRequest.onAuthRequired.addListener(\n",
    "                    callbackFn,\n",
    "                    {urls: [\"<all_urls>\"]},\n",
    "                    ['blocking']\n",
    "        );\n",
    "        \"\"\"\n",
    "    ).substitute(\n",
    "        host=tunnelhost,\n",
    "        port=tunnelport,\n",
    "        username=proxy_username,\n",
    "        password=proxy_password,\n",
    "        scheme=scheme,\n",
    "    )\n",
    "    with zipfile.ZipFile(plugin_path, 'w') as zp:\n",
    "        zp.writestr(\"manifest.json\", manifest_json)\n",
    "        zp.writestr(\"background.js\", background_js)\n",
    "    return plugin_path\n",
    "\n",
    "\n",
    "proxyauth_plugin_path = create_proxyauth_extension(\n",
    "    tunnelhost=\"n419.kdltps.com\",  # 隧道域名\n",
    "    tunnelport=\"$15818\",  # 端口号\n",
    "    proxy_username=\"$t17939813784851\",  # 用户名\n",
    "    proxy_password=\"$2zu87goi\"  # 密码\n",
    ")\n",
    "\n",
    "\n",
    "chrome_options = webdriver.ChromeOptions()\n",
    "chrome_options.add_extension(proxyauth_plugin_path)\n",
    "# ${chromedriver_path}: chromedriver驱动存放路径\n",
    "driver = webdriver.Chrome(chrome_options=chrome_options)\n",
    "driver.get(\"https://dev.kdlapi.com/testproxy\")\n",
    "\n",
    "# 获取页面内容\n",
    "print(driver.page_source)\n",
    "\n",
    "# 延迟3秒后关闭当前窗口，如果是最后一个窗口则退出\n",
    "time.sleep(3)\n",
    "driver.close()"
   ]
  }
 ],
 "metadata": {
  "kernelspec": {
   "display_name": "boost",
   "language": "python",
   "name": "python3"
  },
  "language_info": {
   "codemirror_mode": {
    "name": "ipython",
    "version": 3
   },
   "file_extension": ".py",
   "mimetype": "text/x-python",
   "name": "python",
   "nbconvert_exporter": "python",
   "pygments_lexer": "ipython3",
   "version": "3.9.16"
  },
  "orig_nbformat": 4
 },
 "nbformat": 4,
 "nbformat_minor": 2
}
